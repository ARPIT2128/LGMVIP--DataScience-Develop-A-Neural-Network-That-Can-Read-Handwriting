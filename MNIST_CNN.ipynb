{
 "cells": [
  {
   "cell_type": "markdown",
   "id": "07f5a6a3",
   "metadata": {},
   "source": [
    "# Importing library"
   ]
  },
  {
   "cell_type": "code",
   "execution_count": 1,
   "id": "4aabd12d",
   "metadata": {},
   "outputs": [],
   "source": [
    "import numpy as np\n",
    "import pandas as pd\n",
    "import tensorflow as tf\n",
    "import tensorflow.keras.layers as KL\n",
    "import tensorflow.keras.models as KM\n",
    "import matplotlib.pyplot as plt\n",
    "import plotly.express as px\n",
    "import plotly.graph_objects as go\n",
    "from plotly.offline import iplot\n",
    "pd.options.plotting.backend = \"plotly\""
   ]
  },
  {
   "cell_type": "markdown",
   "id": "4d528978",
   "metadata": {},
   "source": [
    "# Loading MNIST Dataset"
   ]
  },
  {
   "cell_type": "code",
   "execution_count": 2,
   "id": "89d31a78",
   "metadata": {},
   "outputs": [],
   "source": [
    "mnist=tf.keras.datasets.mnist"
   ]
  },
  {
   "cell_type": "markdown",
   "id": "9726886d",
   "metadata": {},
   "source": [
    "# Spliting Dataset "
   ]
  },
  {
   "cell_type": "code",
   "execution_count": 3,
   "id": "4e3a88bb",
   "metadata": {},
   "outputs": [],
   "source": [
    "(X_train,y_train),(X_test,y_test) =mnist.load_data()"
   ]
  },
  {
   "cell_type": "markdown",
   "id": "3c2c89f7",
   "metadata": {},
   "source": [
    "# Standardizing The Data"
   ]
  },
  {
   "cell_type": "code",
   "execution_count": 4,
   "id": "78f856dd",
   "metadata": {},
   "outputs": [],
   "source": [
    "X_train,X_test=X_train/255.,X_test/255."
   ]
  },
  {
   "cell_type": "markdown",
   "id": "c77d1303",
   "metadata": {},
   "source": [
    "## Understanding The Shape"
   ]
  },
  {
   "cell_type": "code",
   "execution_count": 5,
   "id": "e03dd8ce",
   "metadata": {},
   "outputs": [
    {
     "name": "stdout",
     "output_type": "stream",
     "text": [
      "(60000, 28, 28)\n",
      "(10000, 28, 28)\n",
      "(60000,)\n",
      "(10000,)\n"
     ]
    }
   ],
   "source": [
    "print(X_train.shape)\n",
    "print(X_test.shape)\n",
    "print(y_train.shape)\n",
    "print(y_test.shape)"
   ]
  },
  {
   "cell_type": "code",
   "execution_count": 6,
   "id": "3afbf0ae",
   "metadata": {},
   "outputs": [
    {
     "data": {
      "text/plain": [
       "(60000, 28, 28)"
      ]
     },
     "execution_count": 6,
     "metadata": {},
     "output_type": "execute_result"
    }
   ],
   "source": [
    "X_train.shape"
   ]
  },
  {
   "cell_type": "markdown",
   "id": "6bf9fc21",
   "metadata": {},
   "source": [
    "## Explanding dims"
   ]
  },
  {
   "cell_type": "code",
   "execution_count": 7,
   "id": "5fd5368f",
   "metadata": {},
   "outputs": [],
   "source": [
    "X_train,X_test=np.expand_dims(X_train,axis=-1),np.expand_dims(X_test,axis=-1)"
   ]
  },
  {
   "cell_type": "code",
   "execution_count": 8,
   "id": "ac235994",
   "metadata": {},
   "outputs": [
    {
     "data": {
      "text/plain": [
       "(60000, 28, 28, 1)"
      ]
     },
     "execution_count": 8,
     "metadata": {},
     "output_type": "execute_result"
    }
   ],
   "source": [
    "X_train.shape"
   ]
  },
  {
   "cell_type": "markdown",
   "id": "66bfb090",
   "metadata": {},
   "source": [
    "## Ploting images"
   ]
  },
  {
   "cell_type": "code",
   "execution_count": null,
   "id": "37469f03",
   "metadata": {},
   "outputs": [],
   "source": [
    "_, axs = plt.subplots(4,4, figsize=(15,15))\n",
    "axs = axs.flatten()\n",
    "for img, ax in zip(X_train, axs):\n",
    "    ax.imshow(img,cmap=\"gray\")\n",
    "plt.show()"
   ]
  },
  {
   "cell_type": "markdown",
   "id": "28e3ec04",
   "metadata": {},
   "source": [
    "# Defining the Model"
   ]
  },
  {
   "cell_type": "code",
   "execution_count": 9,
   "id": "d9cfc21f",
   "metadata": {},
   "outputs": [
    {
     "name": "stdout",
     "output_type": "stream",
     "text": [
      "Model: \"sequential\"\n",
      "_________________________________________________________________\n",
      " Layer (type)                Output Shape              Param #   \n",
      "=================================================================\n",
      " conv2d (Conv2D)             (None, 26, 26, 32)        320       \n",
      "                                                                 \n",
      " max_pooling2d (MaxPooling2  (None, 13, 13, 32)        0         \n",
      " D)                                                              \n",
      "                                                                 \n",
      " dropout (Dropout)           (None, 13, 13, 32)        0         \n",
      "                                                                 \n",
      " conv2d_1 (Conv2D)           (None, 11, 11, 64)        18496     \n",
      "                                                                 \n",
      " max_pooling2d_1 (MaxPoolin  (None, 5, 5, 64)          0         \n",
      " g2D)                                                            \n",
      "                                                                 \n",
      " dropout_1 (Dropout)         (None, 5, 5, 64)          0         \n",
      "                                                                 \n",
      " conv2d_2 (Conv2D)           (None, 3, 3, 128)         73856     \n",
      "                                                                 \n",
      " flatten (Flatten)           (None, 1152)              0         \n",
      "                                                                 \n",
      " dense (Dense)               (None, 128)               147584    \n",
      "                                                                 \n",
      " dense_1 (Dense)             (None, 10)                1290      \n",
      "                                                                 \n",
      "=================================================================\n",
      "Total params: 241546 (943.54 KB)\n",
      "Trainable params: 241546 (943.54 KB)\n",
      "Non-trainable params: 0 (0.00 Byte)\n",
      "_________________________________________________________________\n"
     ]
    }
   ],
   "source": [
    "from tensorflow import keras\n",
    "def build_model():\n",
    "    model = keras.Sequential()\n",
    "    \n",
    "    model.add(KL.Input(shape=(28,28,1)))\n",
    "    \n",
    "    model.add(KL.Conv2D(filters=32, kernel_size=(3, 3),padding=\"valid\", activation=\"relu\") )\n",
    "    \n",
    "    model.add(KL.MaxPooling2D((2, 2),(2, 2)))\n",
    "    \n",
    "    model.add(KL.Dropout(0.20))\n",
    "    \n",
    "    model.add(KL.Conv2D(filters=64, kernel_size=(3, 3),padding=\"valid\", activation=\"relu\"))\n",
    "    \n",
    "    model.add(KL.MaxPooling2D((2, 2),(2, 2)))\n",
    "    \n",
    "    model.add(KL.Dropout(0.20))\n",
    "    \n",
    "    model.add(KL.Conv2D(filters=128, kernel_size=(3, 3),padding=\"valid\",activation=\"relu\"))\n",
    "    \n",
    "    model.add(KL.Flatten())\n",
    "    \n",
    "    model.add(KL.Dense(128,activation=\"relu\"))\n",
    "    \n",
    "    model.add(KL.Dense(10, activation = 'softmax'))\n",
    "\n",
    "    model.summary()\n",
    "\n",
    "    return model\n",
    "\n",
    "model = build_model()"
   ]
  },
  {
   "cell_type": "code",
   "execution_count": 10,
   "id": "16d99ae8",
   "metadata": {},
   "outputs": [],
   "source": [
    "model.compile(optimizer='adam', loss=\"sparse_categorical_crossentropy\", metrics=['accuracy'])"
   ]
  },
  {
   "cell_type": "code",
   "execution_count": null,
   "id": "2a0e503b",
   "metadata": {},
   "outputs": [],
   "source": [
    "history=model.fit(X_train,y_train,batch_size=64,epochs=20,verbose=1,validation_split=0.2)"
   ]
  },
  {
   "cell_type": "markdown",
   "id": "247214c3",
   "metadata": {},
   "source": [
    "## Evaluating Model"
   ]
  },
  {
   "cell_type": "code",
   "execution_count": null,
   "id": "253d7729",
   "metadata": {},
   "outputs": [],
   "source": [
    "test_loss,test_acc = model.evaluate(X_test,y_test)"
   ]
  },
  {
   "cell_type": "markdown",
   "id": "0610b848",
   "metadata": {},
   "source": [
    "## Fetching Predicted classes"
   ]
  },
  {
   "cell_type": "code",
   "execution_count": 13,
   "id": "9ee606b0",
   "metadata": {},
   "outputs": [
    {
     "name": "stdout",
     "output_type": "stream",
     "text": [
      "313/313 [==============================] - 3s 8ms/step\n"
     ]
    },
    {
     "data": {
      "text/plain": [
       "array([7, 2, 1, ..., 4, 5, 6], dtype=int64)"
      ]
     },
     "execution_count": 13,
     "metadata": {},
     "output_type": "execute_result"
    }
   ],
   "source": [
    "np.argmax(model.predict(X_test), axis=-1)"
   ]
  },
  {
   "cell_type": "markdown",
   "id": "a35a0b03",
   "metadata": {},
   "source": [
    "# Ploting Model predictions"
   ]
  },
  {
   "cell_type": "code",
   "execution_count": 14,
   "id": "63d6a2fe",
   "metadata": {},
   "outputs": [
    {
     "name": "stdout",
     "output_type": "stream",
     "text": [
      "313/313 [==============================] - 2s 8ms/step\n"
     ]
    },
    {
     "data": {
      "image/png": "[encoded data removed]",
      "text/plain": [
       "<Figure size 1500x1500 with 16 Axes>"
      ]
     },
     "metadata": {},
     "output_type": "display_data"
    }
   ],
   "source": [
    "_, axs = plt.subplots(4,4, figsize=(15,15))\n",
    "axs = axs.flatten()\n",
    "i=0\n",
    "predict_labels=np.argmax(model.predict(X_test), axis=-1)\n",
    "for img, ax in zip(X_test, axs):\n",
    "    ax.set_title(\"Model predicted \"+str(predict_labels[i]))\n",
    "    ax.imshow(img,cmap=\"gray\")\n",
    "    i+=1\n",
    "plt.show()"
   ]
  },
  {
   "cell_type": "code",
   "execution_count": 15,
   "id": "9a28ca81",
   "metadata": {},
   "outputs": [
    {
     "ename": "NameError",
     "evalue": "name 'history' is not defined",
     "output_type": "error",
     "traceback": [
      "\u001b[1;31m---------------------------------------------------------------------------\u001b[0m",
      "\u001b[1;31mNameError\u001b[0m                                 Traceback (most recent call last)",
      "\u001b[1;32m~\\AppData\\Local\\Temp\\ipykernel_4688\\264866773.py\u001b[0m in \u001b[0;36m<module>\u001b[1;34m\u001b[0m\n\u001b[1;32m----> 1\u001b[1;33m \u001b[0mdf\u001b[0m\u001b[1;33m=\u001b[0m\u001b[0mpd\u001b[0m\u001b[1;33m.\u001b[0m\u001b[0mDataFrame\u001b[0m\u001b[1;33m(\u001b[0m\u001b[0mhistory\u001b[0m\u001b[1;33m.\u001b[0m\u001b[0mhistory\u001b[0m\u001b[1;33m)\u001b[0m\u001b[1;33m\u001b[0m\u001b[1;33m\u001b[0m\u001b[0m\n\u001b[0m\u001b[0;32m      2\u001b[0m \u001b[0mdf\u001b[0m\u001b[1;33m[\u001b[0m\u001b[1;33m[\u001b[0m\u001b[1;34m\"loss\"\u001b[0m\u001b[1;33m,\u001b[0m\u001b[1;34m\"val_loss\"\u001b[0m\u001b[1;33m]\u001b[0m\u001b[1;33m]\u001b[0m\u001b[1;33m.\u001b[0m\u001b[0mplot\u001b[0m\u001b[1;33m.\u001b[0m\u001b[0mline\u001b[0m\u001b[1;33m(\u001b[0m\u001b[0mtemplate\u001b[0m\u001b[1;33m=\u001b[0m\u001b[1;34m\"plotly_dark\"\u001b[0m\u001b[1;33m)\u001b[0m\u001b[1;33m\u001b[0m\u001b[1;33m\u001b[0m\u001b[0m\n",
      "\u001b[1;31mNameError\u001b[0m: name 'history' is not defined"
     ]
    }
   ],
   "source": [
    "df=pd.DataFrame(history.history)\n",
    "df[[\"loss\",\"val_loss\"]].plot.line(template=\"plotly_dark\")"
   ]
  },
  {
   "cell_type": "code",
   "execution_count": null,
   "id": "163296ac",
   "metadata": {
    "scrolled": true
   },
   "outputs": [],
   "source": [
    "df[[\"accuracy\",\"val_accuracy\"]].plot.line(template=\"plotly_dark\")"
   ]
  },
  {
   "cell_type": "markdown",
   "id": "d25d1d4c",
   "metadata": {},
   "source": [
    "# Saving the Weights"
   ]
  },
  {
   "cell_type": "code",
   "execution_count": null,
   "id": "3170e623",
   "metadata": {},
   "outputs": [],
   "source": [
    "#model.save_weights('weights.h5')"
   ]
  },
  {
   "cell_type": "markdown",
   "id": "40b71de4",
   "metadata": {},
   "source": [
    "# Loading the Weights"
   ]
  },
  {
   "cell_type": "code",
   "execution_count": 11,
   "id": "61b16642",
   "metadata": {},
   "outputs": [],
   "source": [
    "model.load_weights('weights.h5')"
   ]
  },
  {
   "cell_type": "markdown",
   "id": "8ae71bf8",
   "metadata": {},
   "source": [
    "# Verifying the Save Weights"
   ]
  },
  {
   "cell_type": "code",
   "execution_count": 12,
   "id": "859fa877",
   "metadata": {},
   "outputs": [
    {
     "name": "stdout",
     "output_type": "stream",
     "text": [
      "313/313 [==============================] - 4s 11ms/step - loss: 0.0361 - accuracy: 0.9915\n"
     ]
    }
   ],
   "source": [
    "predictions = model.evaluate(X_test,y_test)"
   ]
  },
  {
   "cell_type": "code",
   "execution_count": null,
   "id": "b14c702e",
   "metadata": {},
   "outputs": [],
   "source": []
  }
 ],
 "metadata": {
  "kernelspec": {
   "display_name": "Python 3 (ipykernel)",
   "language": "python",
   "name": "python3"
  },
  "language_info": {
   "codemirror_mode": {
    "name": "ipython",
    "version": 3
   },
   "file_extension": ".py",
   "mimetype": "text/x-python",
   "name": "python",
   "nbconvert_exporter": "python",
   "pygments_lexer": "ipython3",
   "version": "3.9.13"
  }
 },
 "nbformat": 4,
 "nbformat_minor": 5
}
